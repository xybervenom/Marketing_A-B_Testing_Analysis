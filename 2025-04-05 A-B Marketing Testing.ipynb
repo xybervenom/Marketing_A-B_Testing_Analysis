{
 "cells": [
  {
   "cell_type": "markdown",
   "id": "b7c1dc3e",
   "metadata": {},
   "source": [
    "# 📊 Marketing A/B Testing Analysis\n",
    "\n",
    "This project analyzes the results of a marketing A/B test to evaluate ad campaign effectiveness.\n",
    "\n",
    "##### 📌 Objective\n",
    "- Determine **if the ad campaign was successful**\n",
    "- Quantify **how much of the success can be attributed to the ads**\n",
    "\n",
    "##### 🧪 Experiment Setup\n",
    "- **Ad Group (Test):** Users exposed to advertisements\n",
    "- **PSA Group (Control):** Users shown a public service announcement (PSA) instead of ads\n",
    "\n",
    "##### 🧾 Dataset Overview\n",
    "- **user_id:** Unique identifier for each user  \n",
    "- **test_group:** 'ad' or 'psa' depending on exposure  \n",
    "- **converted:** `True` if the user made a purchase  \n",
    "- **total_ads:** Total number of ads the user saw  \n",
    "- **most_ads_day:** Day with highest ad exposure  \n",
    "- **most_ads_hour:** Hour with highest ad exposure\n",
    "\n",
    "Data: [Marketing A/B Testing Dataset on Kaggle](https://www.kaggle.com/datasets/faviovaz/marketing-ab-testing)\n",
    "\n",
    "\n",
    "We'll analyze conversion rates, revenue impact, and statistical significance to guide campaign decisions\n",
    "\n",
    "---\n",
    "---\n"
   ]
  },
  {
   "cell_type": "code",
   "execution_count": 66,
   "id": "f4d3f09a",
   "metadata": {},
   "outputs": [
    {
     "data": {
      "application/vnd.microsoft.datawrangler.viewer.v0+json": {
       "columns": [
        {
         "name": "index",
         "rawType": "int64",
         "type": "integer"
        },
        {
         "name": "Unnamed: 0",
         "rawType": "int64",
         "type": "integer"
        },
        {
         "name": "user id",
         "rawType": "int64",
         "type": "integer"
        },
        {
         "name": "test group",
         "rawType": "object",
         "type": "string"
        },
        {
         "name": "converted",
         "rawType": "bool",
         "type": "boolean"
        },
        {
         "name": "total ads",
         "rawType": "int64",
         "type": "integer"
        },
        {
         "name": "most ads day",
         "rawType": "object",
         "type": "string"
        },
        {
         "name": "most ads hour",
         "rawType": "int64",
         "type": "integer"
        }
       ],
       "conversionMethod": "pd.DataFrame",
       "ref": "70b477d9-1f75-44d4-9505-915e71eb21b1",
       "rows": [
        [
         "0",
         "0",
         "1069124",
         "ad",
         "False",
         "130",
         "Monday",
         "20"
        ],
        [
         "1",
         "1",
         "1119715",
         "ad",
         "False",
         "93",
         "Tuesday",
         "22"
        ],
        [
         "2",
         "2",
         "1144181",
         "ad",
         "False",
         "21",
         "Tuesday",
         "18"
        ]
       ],
       "shape": {
        "columns": 7,
        "rows": 3
       }
      },
      "text/html": [
       "<div>\n",
       "<style scoped>\n",
       "    .dataframe tbody tr th:only-of-type {\n",
       "        vertical-align: middle;\n",
       "    }\n",
       "\n",
       "    .dataframe tbody tr th {\n",
       "        vertical-align: top;\n",
       "    }\n",
       "\n",
       "    .dataframe thead th {\n",
       "        text-align: right;\n",
       "    }\n",
       "</style>\n",
       "<table border=\"1\" class=\"dataframe\">\n",
       "  <thead>\n",
       "    <tr style=\"text-align: right;\">\n",
       "      <th></th>\n",
       "      <th>Unnamed: 0</th>\n",
       "      <th>user id</th>\n",
       "      <th>test group</th>\n",
       "      <th>converted</th>\n",
       "      <th>total ads</th>\n",
       "      <th>most ads day</th>\n",
       "      <th>most ads hour</th>\n",
       "    </tr>\n",
       "  </thead>\n",
       "  <tbody>\n",
       "    <tr>\n",
       "      <th>0</th>\n",
       "      <td>0</td>\n",
       "      <td>1069124</td>\n",
       "      <td>ad</td>\n",
       "      <td>False</td>\n",
       "      <td>130</td>\n",
       "      <td>Monday</td>\n",
       "      <td>20</td>\n",
       "    </tr>\n",
       "    <tr>\n",
       "      <th>1</th>\n",
       "      <td>1</td>\n",
       "      <td>1119715</td>\n",
       "      <td>ad</td>\n",
       "      <td>False</td>\n",
       "      <td>93</td>\n",
       "      <td>Tuesday</td>\n",
       "      <td>22</td>\n",
       "    </tr>\n",
       "    <tr>\n",
       "      <th>2</th>\n",
       "      <td>2</td>\n",
       "      <td>1144181</td>\n",
       "      <td>ad</td>\n",
       "      <td>False</td>\n",
       "      <td>21</td>\n",
       "      <td>Tuesday</td>\n",
       "      <td>18</td>\n",
       "    </tr>\n",
       "  </tbody>\n",
       "</table>\n",
       "</div>"
      ],
      "text/plain": [
       "   Unnamed: 0  user id test group  converted  total ads most ads day  \\\n",
       "0           0  1069124         ad      False        130       Monday   \n",
       "1           1  1119715         ad      False         93      Tuesday   \n",
       "2           2  1144181         ad      False         21      Tuesday   \n",
       "\n",
       "   most ads hour  \n",
       "0             20  \n",
       "1             22  \n",
       "2             18  "
      ]
     },
     "execution_count": 66,
     "metadata": {},
     "output_type": "execute_result"
    }
   ],
   "source": [
    "import pandas as pd\n",
    "df= pd.read_csv('marketing_AB.csv')\n",
    "df.head(3)"
   ]
  },
  {
   "cell_type": "markdown",
   "id": "159198fd",
   "metadata": {},
   "source": [
    "### Compare Conversion Rates"
   ]
  },
  {
   "cell_type": "code",
   "execution_count": 63,
   "id": "37113460",
   "metadata": {},
   "outputs": [
    {
     "name": "stdout",
     "output_type": "stream",
     "text": [
      "                mean   count    sum  conversion_rate\n",
      "test group                                          \n",
      "ad          0.025547  564577  14423         0.025547\n",
      "psa         0.017854   23524    420         0.017854\n"
     ]
    }
   ],
   "source": [
    "conversion_summary = df.groupby('test group')['converted'].agg(['mean', 'count', 'sum'])\n",
    "conversion_summary['conversion_rate'] = conversion_summary['sum'] / conversion_summary['count']\n",
    "print(conversion_summary)\n"
   ]
  },
  {
   "cell_type": "markdown",
   "id": "862008d2",
   "metadata": {},
   "source": [
    "### Calculate Lift (Effectiveness of Ads)"
   ]
  },
  {
   "cell_type": "code",
   "execution_count": null,
   "id": "a3e7c1d0",
   "metadata": {},
   "outputs": [
    {
     "name": "stdout",
     "output_type": "stream",
     "text": [
      "Lift from Ads: 43.09%\n"
     ]
    }
   ],
   "source": [
    "ad_rate = conversion_summary.loc['ad', 'conversion_rate']\n",
    "psa_rate = conversion_summary.loc['psa', 'conversion_rate']\n",
    "\n",
    "lift = (ad_rate - psa_rate) / psa_rate\n",
    "print(f\"Lift from Ads: {lift * 100:.2f}%\")\n"
   ]
  },
  {
   "cell_type": "markdown",
   "id": "2e9fec11",
   "metadata": {},
   "source": [
    "### Statistical Test (Proportion Z-test)\n",
    "- z_stat: how many standard deviations the observed difference is from the expected difference (under the null hypothesis)\n",
    "\n",
    "- p_val: If p < 0.05 → the difference is statistically significant, meaning the observed effect is unlikely to be due to random chance"
   ]
  },
  {
   "cell_type": "code",
   "execution_count": 64,
   "id": "36beaf5b",
   "metadata": {},
   "outputs": [
    {
     "name": "stdout",
     "output_type": "stream",
     "text": [
      "Z-stat: 7.37, P-value: 0.0000\n"
     ]
    }
   ],
   "source": [
    "from statsmodels.stats.proportion import proportions_ztest\n",
    "\n",
    "success = df.groupby('test group')['converted'].sum().values\n",
    "total_users = df.groupby('test group')['converted'].count().values\n",
    "\n",
    "z_stat, p_val = proportions_ztest(success, total_users)\n",
    "print(f\"Z-stat: {z_stat:.2f}, P-value: {p_val:.4f}\")"
   ]
  },
  {
   "cell_type": "markdown",
   "id": "f4435038",
   "metadata": {},
   "source": [
    "- **The uplift is not only visible — it's statistically significant**, even after accounting for randomness and the 96/4 split in group sizes.\n"
   ]
  },
  {
   "cell_type": "markdown",
   "id": "ad4dda2c",
   "metadata": {},
   "source": [
    "###  Estimate Revenue Uplift\n",
    "\n",
    "- How many extra conversions happened because of the ads?\n",
    "- Assumption: Average order value (AOV), say $50:"
   ]
  },
  {
   "cell_type": "code",
   "execution_count": 57,
   "id": "b6ac8c25",
   "metadata": {},
   "outputs": [
    {
     "name": "stdout",
     "output_type": "stream",
     "text": [
      "Incremental Revenue from Ads: $217,149.11\n"
     ]
    }
   ],
   "source": [
    "users_in_ad = df[df['test group'] == 'ad'].shape[0]\n",
    "extra_conversions = (ad_rate - psa_rate) * users_in_ad\n",
    "incremental_revenue = extra_conversions * 50\n",
    "\n",
    "print(f\"Incremental Revenue from Ads: ${incremental_revenue:,.2f}\")\n"
   ]
  },
  {
   "cell_type": "markdown",
   "id": "d14697c3",
   "metadata": {},
   "source": [
    "### Ad Exposure Impact\n",
    "- Do more ads = more conversion?"
   ]
  },
  {
   "cell_type": "code",
   "execution_count": 60,
   "id": "5aa1a0e1",
   "metadata": {},
   "outputs": [
    {
     "data": {
      "image/png": "[encoded data removed]",
      "text/plain": [
       "<Figure size 640x480 with 1 Axes>"
      ]
     },
     "metadata": {},
     "output_type": "display_data"
    }
   ],
   "source": [
    "import seaborn as sns\n",
    "import matplotlib.pyplot as plt\n",
    "sns.boxplot(x='converted', y='total ads', data=df[df['test group'] == 'ad'])\n",
    "plt.title(\"Total Ads vs Conversion a(Ad Group)\")\n",
    "plt.show()"
   ]
  },
  {
   "cell_type": "markdown",
   "id": "11097fd7",
   "metadata": {},
   "source": [
    "##### ✅ Key Insights\n",
    "\n",
    "- **Median ad exposure is higher for converted users**  \n",
    "  The box (IQR) and the median line for `True` is shifted slightly higher than for `False`.  \n",
    "  → Suggests a general trend: users who converted saw more ads.\n",
    "\n",
    "- **Outliers are present in both groups**  \n",
    "  Some users saw 1000+ ads, regardless of whether they converted.  \n",
    "  → Indicates a long-tailed distribution — very high exposure for a small number of users.\n",
    "\n",
    "- **IQR is wider for converters**  \n",
    "  Indicates more variability in ad exposure among those who converted.  \n",
    "  → Some converters needed just a few ads, others needed many.\n",
    "\n",
    "- **Most users saw <100 ads**  \n",
    "  Despite the extreme outliers, the majority of the distribution is densely packed below 100 total ads.  \n",
    "  → Reinforces that outliers are not driving the core result.\n"
   ]
  },
  {
   "cell_type": "code",
   "execution_count": null,
   "id": "7a0bff7d",
   "metadata": {},
   "outputs": [],
   "source": []
  },
  {
   "cell_type": "markdown",
   "id": "6e7faac2",
   "metadata": {},
   "source": [
    "----\n",
    "----\n",
    "### 🎯 Campaign Evaluation: Final Summary\n",
    "\n",
    "#### 1️⃣ Would the campaign be successful?\n",
    "\n",
    "- **Yes.** The ad campaign demonstrated a **clear and statistically significant lift** in conversion rates.\n",
    "  - **Conversion Rate:**\n",
    "    - **Ad Group:** 2.55%\n",
    "    - **PSA Group:** 1.78%\n",
    "  - **Lift:** Ads resulted in a **43% increase** in conversions.\n",
    "  - **Statistical Significance:** p-value = **0.000** — strong evidence that the result is **not due to chance**.\n",
    "  - **Distribution Insight:** Median ad exposure was higher among converters, supporting the effectiveness of ad exposure.\n",
    "  - **Conclusion:** The campaign is **effective** and can be confidently scaled.\n",
    "\n",
    "\n",
    "#### 2️⃣ If the campaign was successful, how much of that success could be attributed to the ads?\n",
    "\n",
    "- **Attribution to Ads:**\n",
    "  - Based on the observed lift, we can attribute a **significant portion of the incremental conversions directly to ad exposure**.\n",
    "  - **Estimated Incremental Revenue:**  \n",
    "    Assuming an **Average Order Value (AOV)** of **$50**, the ads likely generated an **additional $217,149.11** in revenue.\n",
    "  - **Control for Confounders:**  \n",
    "    Even with a **96/4 split** in group allocation, the uplift remains **statistically valid**, indicating the effect is truly driven by the ads.\n",
    "  \n",
    "- **Conclusion:**  \n",
    "  The ads are not only correlated with success — they are the **primary driver** of it.\n",
    "\n",
    "\n",
    "#### ✅ Recommendation\n",
    "\n",
    "- **Roll out the campaign at full scale.**\n",
    "- Continue to **optimize ad timing, frequency, and targeting** using deeper behavioral segmentation.\n",
    "- Monitor for diminishing returns over time and A/B test iterations for continuous improvement.\n"
   ]
  },
  {
   "cell_type": "code",
   "execution_count": null,
   "id": "6b400ea8",
   "metadata": {},
   "outputs": [],
   "source": []
  },
  {
   "cell_type": "markdown",
   "id": "cf3ad10d",
   "metadata": {},
   "source": [
    "---\n",
    "---\n",
    "\n",
    "#### 🔄 Appendix: Monitoring for Diminishing Returns & A/B Test Iterations\n",
    "\n",
    "\n",
    "##### 🧠 1. Diminishing Returns\n",
    "\n",
    "As ad spend or campaign scale increases, **each additional dollar may generate fewer conversions** than before.\n",
    "\n",
    "**📊 Example:**\n",
    "- Initial $1,000 spend → 100 conversions  \n",
    "- Next $1,000 spend → Only 60 conversions\n",
    "\n",
    "**📉 Why This Happens:**\n",
    "- Most responsive audience already reached  \n",
    "- **Ad fatigue** — people begin ignoring repeated messages  \n",
    "- **Channel saturation** or rising ad costs\n",
    "\n",
    "**✅ What You Should Do:**\n",
    "- Regularly monitor key metrics:\n",
    "  - **CPA** (Cost per Acquisition)\n",
    "  - **CTR** (Click-Through Rate)\n",
    "  - **ROI**\n",
    "- Set **performance thresholds**\n",
    "  - If ROI drops below a certain level → pause, optimize, or reallocate\n",
    "- Use **moving averages or trendlines** to detect slowdown\n",
    "\n",
    "##### 🔬 2. A/B Test Iterations\n",
    "\n",
    "Even after proving that a campaign works, keep **experimenting with new variants** to continuously improve performance.\n",
    "\n",
    "**🚀 Why Keep Testing:**\n",
    "- **Markets evolve** — user behavior and competition change\n",
    "- **Small tweaks** can unlock big gains\n",
    "- Continuous testing keeps your approach **ahead of fatigue and decline**\n",
    "\n",
    "**🧪 What to Test Next:**\n",
    "- **Ad Timing**: When are users most likely to convert? Morning vs evening?\n",
    "- **Frequency Cap**: How many times should a user see the ad before it’s counterproductive?\n",
    "- **Audience Segments**: Which demographics or interests are responding better?\n",
    "- **Creative Variants**: Test different:\n",
    "  - Headlines\n",
    "  - Visuals\n",
    "  - Call-to-actions (CTAs)\n",
    "  - Ad formats\n",
    "\n",
    "> 📌 **Pro Tip:** Maintain a testing backlog and rotate new hypotheses every 1–2 weeks based on learnings.\n"
   ]
  },
  {
   "cell_type": "code",
   "execution_count": null,
   "id": "08f473e7",
   "metadata": {},
   "outputs": [],
   "source": []
  }
 ],
 "metadata": {
  "kernelspec": {
   "display_name": "Python 3",
   "language": "python",
   "name": "python3"
  },
  "language_info": {
   "codemirror_mode": {
    "name": "ipython",
    "version": 3
   },
   "file_extension": ".py",
   "mimetype": "text/x-python",
   "name": "python",
   "nbconvert_exporter": "python",
   "pygments_lexer": "ipython3",
   "version": "3.9.6"
  }
 },
 "nbformat": 4,
 "nbformat_minor": 5
}
